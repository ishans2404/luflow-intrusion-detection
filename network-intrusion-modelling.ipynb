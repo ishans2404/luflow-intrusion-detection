{
 "cells": [
  {
   "cell_type": "code",
   "execution_count": 1,
   "id": "3c878d2f",
   "metadata": {
    "_kg_hide-input": true,
    "_kg_hide-output": true,
    "execution": {
     "iopub.execute_input": "2025-09-12T10:59:39.155504Z",
     "iopub.status.busy": "2025-09-12T10:59:39.155145Z",
     "iopub.status.idle": "2025-09-12T10:59:46.582331Z",
     "shell.execute_reply": "2025-09-12T10:59:46.581242Z"
    },
    "papermill": {
     "duration": 7.434632,
     "end_time": "2025-09-12T10:59:46.584167",
     "exception": false,
     "start_time": "2025-09-12T10:59:39.149535",
     "status": "completed"
    },
    "tags": []
   },
   "outputs": [
    {
     "name": "stdout",
     "output_type": "stream",
     "text": [
      "Collecting memory-profiler\r\n",
      "  Downloading memory_profiler-0.61.0-py3-none-any.whl.metadata (20 kB)\r\n",
      "Requirement already satisfied: psutil in /usr/local/lib/python3.11/dist-packages (from memory-profiler) (7.0.0)\r\n",
      "Downloading memory_profiler-0.61.0-py3-none-any.whl (31 kB)\r\n",
      "Installing collected packages: memory-profiler\r\n",
      "Successfully installed memory-profiler-0.61.0\r\n",
      "\u001b[31mERROR: Could not find a version that satisfies the requirement tracemalloc (from versions: none)\u001b[0m\u001b[31m\r\n",
      "\u001b[0m\u001b[31mERROR: No matching distribution found for tracemalloc\u001b[0m\u001b[31m\r\n",
      "\u001b[0m"
     ]
    }
   ],
   "source": [
    "!pip install memory-profiler\n",
    "!pip install tracemalloc"
   ]
  },
  {
   "cell_type": "code",
   "execution_count": 2,
   "id": "8108ebf1",
   "metadata": {
    "_cell_guid": "b1076dfc-b9ad-4769-8c92-a6c4dae69d19",
    "_uuid": "8f2839f25d086af736a60e9eeb907d3b93b6e0e5",
    "execution": {
     "iopub.execute_input": "2025-09-12T10:59:46.594472Z",
     "iopub.status.busy": "2025-09-12T10:59:46.594063Z",
     "iopub.status.idle": "2025-09-12T11:00:14.828570Z",
     "shell.execute_reply": "2025-09-12T11:00:14.827204Z"
    },
    "papermill": {
     "duration": 28.241625,
     "end_time": "2025-09-12T11:00:14.830133",
     "exception": false,
     "start_time": "2025-09-12T10:59:46.588508",
     "status": "completed"
    },
    "tags": []
   },
   "outputs": [
    {
     "name": "stderr",
     "output_type": "stream",
     "text": [
      "2025-09-12 10:59:59.039105: E external/local_xla/xla/stream_executor/cuda/cuda_fft.cc:477] Unable to register cuFFT factory: Attempting to register factory for plugin cuFFT when one has already been registered\n",
      "WARNING: All log messages before absl::InitializeLog() is called are written to STDERR\n",
      "E0000 00:00:1757674799.272407      13 cuda_dnn.cc:8310] Unable to register cuDNN factory: Attempting to register factory for plugin cuDNN when one has already been registered\n",
      "E0000 00:00:1757674799.343395      13 cuda_blas.cc:1418] Unable to register cuBLAS factory: Attempting to register factory for plugin cuBLAS when one has already been registered\n"
     ]
    },
    {
     "name": "stdout",
     "output_type": "stream",
     "text": [
      "All libraries imported successfully!\n"
     ]
    }
   ],
   "source": [
    "import os\n",
    "import time\n",
    "import psutil\n",
    "import warnings\n",
    "warnings.filterwarnings('ignore')\n",
    "\n",
    "# Core data science libraries\n",
    "import numpy as np\n",
    "import pandas as pd\n",
    "import matplotlib.pyplot as plt\n",
    "import seaborn as sns\n",
    "\n",
    "# Preprocessing and model selection\n",
    "from sklearn.model_selection import train_test_split, cross_val_score\n",
    "from sklearn.preprocessing import StandardScaler, LabelEncoder\n",
    "from sklearn.metrics import (classification_report, accuracy_score, \n",
    "                           confusion_matrix, precision_recall_fscore_support)\n",
    "\n",
    "# Models\n",
    "from sklearn.ensemble import RandomForestClassifier\n",
    "import xgboost as xgb\n",
    "import lightgbm as lgb\n",
    "from tensorflow.keras.models import Sequential\n",
    "from tensorflow.keras.layers import Dense, Dropout, BatchNormalization\n",
    "from tensorflow.keras.optimizers import Adam\n",
    "from tensorflow.keras.utils import to_categorical\n",
    "from tensorflow.keras.callbacks import EarlyStopping\n",
    "\n",
    "# Memory and performance monitoring\n",
    "import gc\n",
    "from memory_profiler import profile\n",
    "import tracemalloc\n",
    "\n",
    "print(\"All libraries imported successfully!\")\n"
   ]
  },
  {
   "cell_type": "code",
   "execution_count": 3,
   "id": "b6c097a6",
   "metadata": {
    "execution": {
     "iopub.execute_input": "2025-09-12T11:00:14.840842Z",
     "iopub.status.busy": "2025-09-12T11:00:14.839922Z",
     "iopub.status.idle": "2025-09-12T11:00:14.845268Z",
     "shell.execute_reply": "2025-09-12T11:00:14.844228Z"
    },
    "papermill": {
     "duration": 0.012055,
     "end_time": "2025-09-12T11:00:14.846788",
     "exception": false,
     "start_time": "2025-09-12T11:00:14.834733",
     "status": "completed"
    },
    "tags": []
   },
   "outputs": [],
   "source": [
    "SEED=331"
   ]
  },
  {
   "cell_type": "code",
   "execution_count": 4,
   "id": "f8bd39ff",
   "metadata": {
    "execution": {
     "iopub.execute_input": "2025-09-12T11:00:14.856563Z",
     "iopub.status.busy": "2025-09-12T11:00:14.856212Z",
     "iopub.status.idle": "2025-09-12T11:00:43.654183Z",
     "shell.execute_reply": "2025-09-12T11:00:43.652947Z"
    },
    "papermill": {
     "duration": 28.804972,
     "end_time": "2025-09-12T11:00:43.656029",
     "exception": false,
     "start_time": "2025-09-12T11:00:14.851057",
     "status": "completed"
    },
    "tags": []
   },
   "outputs": [
    {
     "name": "stdout",
     "output_type": "stream",
     "text": [
      "Dataset shape: (7890694, 17)\n",
      "Memory usage: 1889.78 MB\n",
      "Available columns: ['avg_ipt', 'bytes_in', 'bytes_out', 'dest_ip', 'dest_port', 'entropy', 'num_pkts_out', 'num_pkts_in', 'proto', 'src_ip', 'src_port', 'time_end', 'time_start', 'total_entropy', 'label', 'duration', 'source_file']\n",
      "Using features: ['src_ip', 'src_port', 'dest_ip', 'dest_port', 'proto', 'bytes_in', 'bytes_out', 'num_pkts_in', 'num_pkts_out', 'entropy', 'total_entropy', 'avg_ipt', 'time_start', 'time_end', 'duration']\n",
      "Features shape: (7890694, 15)\n",
      "Target distribution:\n",
      "label\n",
      "benign       4243325\n",
      "malicious    2628641\n",
      "outlier      1018728\n",
      "Name: count, dtype: int64\n"
     ]
    }
   ],
   "source": [
    "# Load the dataset\n",
    "df = pd.read_csv('/kaggle/input/luflow-modified-dataset/luflow_dataset.csv')\n",
    "\n",
    "print(f\"Dataset shape: {df.shape}\")\n",
    "print(f\"Memory usage: {df.memory_usage(deep=True).sum() / 1024**2:.2f} MB\")\n",
    "\n",
    "# Select only the specified features from the Joy tool\n",
    "feature_columns = [\n",
    "    'src_ip', 'src_port', 'dest_ip', 'dest_port', 'proto',  # protocol renamed to proto in dataset\n",
    "    'bytes_in', 'bytes_out', 'num_pkts_in', 'num_pkts_out', \n",
    "    'entropy', 'total_entropy', 'avg_ipt',  # mean_ipt renamed to avg_ipt in dataset\n",
    "    'time_start', 'time_end', 'duration'\n",
    "]\n",
    "\n",
    "# Check available columns and adjust if necessary\n",
    "print(\"Available columns:\", df.columns.tolist())\n",
    "\n",
    "# Ensure we have all required features\n",
    "available_features = [col for col in feature_columns if col in df.columns]\n",
    "print(f\"Using features: {available_features}\")\n",
    "\n",
    "# Select features and target\n",
    "X = df[available_features].copy()\n",
    "y = df['label'].copy()\n",
    "\n",
    "print(f\"Features shape: {X.shape}\")\n",
    "print(f\"Target distribution:\\n{y.value_counts()}\")\n"
   ]
  },
  {
   "cell_type": "code",
   "execution_count": 5,
   "id": "a566dd7b",
   "metadata": {
    "execution": {
     "iopub.execute_input": "2025-09-12T11:00:43.666095Z",
     "iopub.status.busy": "2025-09-12T11:00:43.665774Z",
     "iopub.status.idle": "2025-09-12T11:00:49.306210Z",
     "shell.execute_reply": "2025-09-12T11:00:49.305132Z"
    },
    "papermill": {
     "duration": 5.647384,
     "end_time": "2025-09-12T11:00:49.307865",
     "exception": false,
     "start_time": "2025-09-12T11:00:43.660481",
     "status": "completed"
    },
    "tags": []
   },
   "outputs": [
    {
     "name": "stdout",
     "output_type": "stream",
     "text": [
      "Missing values per column:\n",
      "src_ip                0\n",
      "src_port         121376\n",
      "dest_ip               0\n",
      "dest_port        121376\n",
      "proto                 0\n",
      "bytes_in              0\n",
      "bytes_out             0\n",
      "num_pkts_in           0\n",
      "num_pkts_out          0\n",
      "entropy               0\n",
      "total_entropy         0\n",
      "avg_ipt               0\n",
      "time_start            0\n",
      "time_end              0\n",
      "duration              0\n",
      "dtype: int64\n",
      "Rows with missing values: 121376\n",
      "After removing missing values:\n",
      "X shape: (7769318, 15)\n",
      "y shape: (7769318,)\n",
      "Rows with infinite values: 0\n",
      "Label classes: ['benign' 'malicious' 'outlier']\n",
      "Final encoded distribution: [4243278 2529308  996732]\n",
      "Data preprocessing completed!\n"
     ]
    }
   ],
   "source": [
    "# Handle missing values\n",
    "print(\"Missing values per column:\")\n",
    "print(X.isnull().sum())\n",
    "\n",
    "# Get indices of rows with missing values\n",
    "missing_indices = X.isnull().any(axis=1)\n",
    "print(f\"Rows with missing values: {missing_indices.sum()}\")\n",
    "\n",
    "# Drop missing value rows from BOTH X and y consistently\n",
    "valid_indices = ~missing_indices\n",
    "X_clean = X[valid_indices].copy()\n",
    "y_clean = y[valid_indices].copy()\n",
    "\n",
    "print(f\"After removing missing values:\")\n",
    "print(f\"X shape: {X_clean.shape}\")\n",
    "print(f\"y shape: {y_clean.shape}\")\n",
    "\n",
    "# Handle potential infinite values\n",
    "inf_mask = np.isinf(X_clean).any(axis=1)\n",
    "print(f\"Rows with infinite values: {inf_mask.sum()}\")\n",
    "\n",
    "if inf_mask.sum() > 0:\n",
    "    final_valid_indices = ~inf_mask\n",
    "    X_clean = X_clean[final_valid_indices].copy()\n",
    "    y_clean = y_clean[final_valid_indices].copy()\n",
    "    print(f\"After removing infinite values:\")\n",
    "    print(f\"X shape: {X_clean.shape}\")\n",
    "    print(f\"y shape: {y_clean.shape}\")\n",
    "\n",
    "# Verify alignment\n",
    "assert len(X_clean) == len(y_clean), f\"Size mismatch: X={len(X_clean)}, y={len(y_clean)}\"\n",
    "\n",
    "# Encode target labels\n",
    "label_encoder = LabelEncoder()\n",
    "y_encoded_clean = label_encoder.fit_transform(y_clean)\n",
    "print(f\"Label classes: {label_encoder.classes_}\")\n",
    "print(f\"Final encoded distribution: {np.bincount(y_encoded_clean)}\")\n",
    "\n",
    "# Feature scaling for neural network (we'll apply selectively)\n",
    "scaler = StandardScaler()\n",
    "X_scaled = scaler.fit_transform(X_clean)\n",
    "X_scaled = pd.DataFrame(X_scaled, columns=X_clean.columns, index=X_clean.index)\n",
    "\n",
    "# Update variable names for consistency\n",
    "X = X_clean\n",
    "y_encoded = y_encoded_clean\n",
    "\n",
    "print(\"Data preprocessing completed!\")"
   ]
  },
  {
   "cell_type": "code",
   "execution_count": 6,
   "id": "fa91b0fa",
   "metadata": {
    "execution": {
     "iopub.execute_input": "2025-09-12T11:00:49.319916Z",
     "iopub.status.busy": "2025-09-12T11:00:49.319549Z",
     "iopub.status.idle": "2025-09-12T11:01:06.493104Z",
     "shell.execute_reply": "2025-09-12T11:01:06.491845Z"
    },
    "papermill": {
     "duration": 17.181967,
     "end_time": "2025-09-12T11:01:06.494721",
     "exception": false,
     "start_time": "2025-09-12T11:00:49.312754",
     "status": "completed"
    },
    "tags": []
   },
   "outputs": [
    {
     "name": "stdout",
     "output_type": "stream",
     "text": [
      "Training set shape: (6215454, 15)\n",
      "Test set shape: (1553864, 15)\n",
      "Training set distribution: [3394622 2023446  797386]\n",
      "Test set distribution: [848656 505862 199346]\n",
      "Data splitting and optimization completed!\n"
     ]
    }
   ],
   "source": [
    "# Split the data\n",
    "X_train, X_test, y_train, y_test = train_test_split(\n",
    "    X, y_encoded, test_size=0.2, random_state=SEED, stratify=y_encoded\n",
    ")\n",
    "\n",
    "X_train_scaled, X_test_scaled, _, _ = train_test_split(\n",
    "    X_scaled, y_encoded, test_size=0.2, random_state=SEED, stratify=y_encoded\n",
    ")\n",
    "\n",
    "print(f\"Training set shape: {X_train.shape}\")\n",
    "print(f\"Test set shape: {X_test.shape}\")\n",
    "print(f\"Training set distribution: {np.bincount(y_train)}\")\n",
    "print(f\"Test set distribution: {np.bincount(y_test)}\")\n",
    "\n",
    "# Memory optimization - reduce data types where possible\n",
    "def optimize_dtypes(df):\n",
    "    for col in df.columns:\n",
    "        if df[col].dtype == 'float64':\n",
    "            df[col] = pd.to_numeric(df[col], downcast='float')\n",
    "        elif df[col].dtype == 'int64':\n",
    "            df[col] = pd.to_numeric(df[col], downcast='integer')\n",
    "    return df\n",
    "\n",
    "X_train = optimize_dtypes(X_train)\n",
    "X_test = optimize_dtypes(X_test)\n",
    "X_train_scaled = optimize_dtypes(X_train_scaled)\n",
    "X_test_scaled = optimize_dtypes(X_test_scaled)\n",
    "\n",
    "print(\"Data splitting and optimization completed!\")\n"
   ]
  },
  {
   "cell_type": "code",
   "execution_count": 7,
   "id": "cf1bd8b6",
   "metadata": {
    "execution": {
     "iopub.execute_input": "2025-09-12T11:01:06.506191Z",
     "iopub.status.busy": "2025-09-12T11:01:06.505875Z",
     "iopub.status.idle": "2025-09-12T11:01:06.515301Z",
     "shell.execute_reply": "2025-09-12T11:01:06.514135Z"
    },
    "papermill": {
     "duration": 0.016777,
     "end_time": "2025-09-12T11:01:06.517098",
     "exception": false,
     "start_time": "2025-09-12T11:01:06.500321",
     "status": "completed"
    },
    "tags": []
   },
   "outputs": [
    {
     "name": "stdout",
     "output_type": "stream",
     "text": [
      "Performance monitoring functions defined!\n"
     ]
    }
   ],
   "source": [
    "def measure_performance(model, X_test, y_test, model_name):\n",
    "    \"\"\"Measure model performance with accurate memory tracking\"\"\"\n",
    "    \n",
    "    # Force garbage collection before measurement\n",
    "    gc.collect()\n",
    "    \n",
    "    # Start memory tracing\n",
    "    tracemalloc.start()\n",
    "    \n",
    "    # Measure inference time and memory together\n",
    "    start_time = time.time()\n",
    "    predictions = model.predict(X_test)\n",
    "    end_time = time.time()\n",
    "    \n",
    "    # Get peak memory usage during prediction\n",
    "    current, peak = tracemalloc.get_traced_memory()\n",
    "    tracemalloc.stop()\n",
    "    \n",
    "    # Calculate metrics\n",
    "    inference_time = end_time - start_time\n",
    "    avg_inference_per_sample = inference_time / len(X_test) * 1000  # ms per sample\n",
    "    memory_used_mb = peak / 1024**2  # Convert to MB\n",
    "    \n",
    "    accuracy = accuracy_score(y_test, predictions)\n",
    "    precision, recall, f1, _ = precision_recall_fscore_support(y_test, predictions, average='weighted')\n",
    "    \n",
    "    results = {\n",
    "        'Model': model_name,\n",
    "        'Accuracy': accuracy,\n",
    "        'Precision': precision,\n",
    "        'Recall': recall,\n",
    "        'F1_Score': f1,\n",
    "        'Total_Inference_Time_s': inference_time,\n",
    "        'Avg_Inference_ms_per_sample': avg_inference_per_sample,\n",
    "        'Memory_Used_MB': memory_used_mb,\n",
    "        'Predictions': predictions\n",
    "    }\n",
    "    \n",
    "    print(f\"\\n{model_name} Performance:\")\n",
    "    print(f\"Accuracy: {accuracy:.4f}\")\n",
    "    print(f\"F1-Score: {f1:.4f}\")\n",
    "    print(f\"Total Inference Time: {inference_time:.4f}s\")\n",
    "    print(f\"Avg Inference per Sample: {avg_inference_per_sample:.4f}ms\")\n",
    "    print(f\"Peak Memory Used: {memory_used_mb:.2f}MB\")\n",
    "    \n",
    "    return results\n",
    "\n",
    "\n",
    "def print_classification_report(y_true, y_pred, model_name):\n",
    "    \"\"\"Print detailed classification report\"\"\"\n",
    "    print(f\"\\n{model_name} - Detailed Classification Report:\")\n",
    "    print(classification_report(y_true, y_pred, target_names=label_encoder.classes_))\n",
    "\n",
    "print(\"Performance monitoring functions defined!\")\n"
   ]
  },
  {
   "cell_type": "code",
   "execution_count": 8,
   "id": "b6eacde0",
   "metadata": {
    "execution": {
     "iopub.execute_input": "2025-09-12T11:01:06.527498Z",
     "iopub.status.busy": "2025-09-12T11:01:06.527121Z",
     "iopub.status.idle": "2025-09-12T11:15:07.024862Z",
     "shell.execute_reply": "2025-09-12T11:15:07.023888Z"
    },
    "papermill": {
     "duration": 840.505061,
     "end_time": "2025-09-12T11:15:07.026859",
     "exception": false,
     "start_time": "2025-09-12T11:01:06.521798",
     "status": "completed"
    },
    "tags": []
   },
   "outputs": [
    {
     "name": "stdout",
     "output_type": "stream",
     "text": [
      "Training Random Forest (Baseline)...\n",
      "Training completed in 818.87 seconds\n",
      "\n",
      "Random Forest Performance:\n",
      "Accuracy: 0.9497\n",
      "F1-Score: 0.9512\n",
      "Total Inference Time: 17.6924s\n",
      "Avg Inference per Sample: 0.0114ms\n",
      "Peak Memory Used: 318.76MB\n",
      "\n",
      "Random Forest - Detailed Classification Report:\n",
      "              precision    recall  f1-score   support\n",
      "\n",
      "      benign       1.00      1.00      1.00    848656\n",
      "   malicious       0.97      0.87      0.92    505862\n",
      "     outlier       0.74      0.93      0.83    199346\n",
      "\n",
      "    accuracy                           0.95   1553864\n",
      "   macro avg       0.90      0.93      0.91   1553864\n",
      "weighted avg       0.96      0.95      0.95   1553864\n",
      "\n",
      "\n",
      "Top 5 Important Features:\n",
      "          feature  importance\n",
      "3       dest_port    0.243479\n",
      "0          src_ip    0.153018\n",
      "10  total_entropy    0.090735\n",
      "6       bytes_out    0.079119\n",
      "12     time_start    0.074822\n"
     ]
    },
    {
     "data": {
      "text/plain": [
       "48"
      ]
     },
     "execution_count": 8,
     "metadata": {},
     "output_type": "execute_result"
    }
   ],
   "source": [
    "print(\"Training Random Forest (Baseline)...\")\n",
    "\n",
    "# Random Forest with optimized hyperparameters for speed vs accuracy\n",
    "rf_model = RandomForestClassifier(\n",
    "    n_estimators=120,        # Sweet spot for accuracy vs speed\n",
    "    max_depth=22,           # Sufficient for LUFlow complexity\n",
    "    min_samples_split=6,    # Balanced splitting\n",
    "    min_samples_leaf=3,     # Fine-grained decisions\n",
    "    max_features='sqrt',    # 4 features per split\n",
    "    bootstrap=True,\n",
    "    class_weight={0: 1.0, 1: 1.6, 2: 4.2} ,\n",
    "    random_state=SEED,\n",
    "    n_jobs=-1,\n",
    "    \n",
    "    # Additional optimizations for edge deployment:\n",
    "    warm_start=False,       # Don't incrementally add trees\n",
    "    oob_score=False,        # Skip out-of-bag scoring for speed\n",
    ")\n",
    "\n",
    "# Train the model\n",
    "start_train = time.time()\n",
    "rf_model.fit(X_train, y_train)\n",
    "train_time = time.time() - start_train\n",
    "\n",
    "print(f\"Training completed in {train_time:.2f} seconds\")\n",
    "\n",
    "# Evaluate performance\n",
    "rf_results = measure_performance(rf_model, X_test, y_test, \"Random Forest\")\n",
    "print_classification_report(y_test, rf_results['Predictions'], \"Random Forest\")\n",
    "\n",
    "# Feature importance\n",
    "feature_importance = pd.DataFrame({\n",
    "    'feature': X_train.columns,\n",
    "    'importance': rf_model.feature_importances_\n",
    "}).sort_values('importance', ascending=False)\n",
    "\n",
    "print(f\"\\nTop 5 Important Features:\")\n",
    "print(feature_importance.head())\n",
    "\n",
    "# Cleanup\n",
    "gc.collect()\n"
   ]
  },
  {
   "cell_type": "code",
   "execution_count": 9,
   "id": "48123cc6",
   "metadata": {
    "execution": {
     "iopub.execute_input": "2025-09-12T11:15:07.043013Z",
     "iopub.status.busy": "2025-09-12T11:15:07.042706Z",
     "iopub.status.idle": "2025-09-12T11:17:40.929328Z",
     "shell.execute_reply": "2025-09-12T11:17:40.928238Z"
    },
    "papermill": {
     "duration": 153.896595,
     "end_time": "2025-09-12T11:17:40.931350",
     "exception": false,
     "start_time": "2025-09-12T11:15:07.034755",
     "status": "completed"
    },
    "tags": []
   },
   "outputs": [
    {
     "name": "stdout",
     "output_type": "stream",
     "text": [
      "Training XGBoost...\n",
      "Training completed in 145.27 seconds\n",
      "\n",
      "XGBoost Performance:\n",
      "Accuracy: 0.9113\n",
      "F1-Score: 0.9048\n",
      "Total Inference Time: 4.6714s\n",
      "Avg Inference per Sample: 0.0030ms\n",
      "Peak Memory Used: 195.64MB\n",
      "\n",
      "XGBoost - Detailed Classification Report:\n",
      "              precision    recall  f1-score   support\n",
      "\n",
      "      benign       1.00      1.00      1.00    848656\n",
      "   malicious       0.82      0.93      0.87    505862\n",
      "     outlier       0.74      0.48      0.58    199346\n",
      "\n",
      "    accuracy                           0.91   1553864\n",
      "   macro avg       0.85      0.80      0.82   1553864\n",
      "weighted avg       0.91      0.91      0.90   1553864\n",
      "\n",
      "\n",
      "Top 5 Important Features:\n",
      "          feature  importance\n",
      "3       dest_port    0.458792\n",
      "1        src_port    0.107755\n",
      "0          src_ip    0.103042\n",
      "10  total_entropy    0.077707\n",
      "2         dest_ip    0.055910\n"
     ]
    },
    {
     "data": {
      "text/plain": [
       "0"
      ]
     },
     "execution_count": 9,
     "metadata": {},
     "output_type": "execute_result"
    }
   ],
   "source": [
    "print(\"Training XGBoost...\")\n",
    "\n",
    "# XGBoost with optimized parameters for speed and accuracy\n",
    "xgb_model = xgb.XGBClassifier(\n",
    "    n_estimators=100,\n",
    "    max_depth=6,\n",
    "    learning_rate=0.1,\n",
    "    subsample=0.8,\n",
    "    colsample_bytree=0.8,\n",
    "    random_state=SEED,\n",
    "    n_jobs=-1,\n",
    "    eval_metric='mlogloss',\n",
    "    use_label_encoder=False\n",
    ")\n",
    "\n",
    "# Train the model\n",
    "start_train = time.time()\n",
    "xgb_model.fit(X_train, y_train)\n",
    "train_time = time.time() - start_train\n",
    "\n",
    "print(f\"Training completed in {train_time:.2f} seconds\")\n",
    "\n",
    "# Evaluate performance\n",
    "xgb_results = measure_performance(xgb_model, X_test, y_test, \"XGBoost\")\n",
    "print_classification_report(y_test, xgb_results['Predictions'], \"XGBoost\")\n",
    "\n",
    "# Feature importance\n",
    "xgb_importance = pd.DataFrame({\n",
    "    'feature': X_train.columns,\n",
    "    'importance': xgb_model.feature_importances_\n",
    "}).sort_values('importance', ascending=False)\n",
    "\n",
    "print(f\"\\nTop 5 Important Features:\")\n",
    "print(xgb_importance.head())\n",
    "\n",
    "# Cleanup\n",
    "gc.collect()\n"
   ]
  },
  {
   "cell_type": "code",
   "execution_count": 10,
   "id": "db7afc4a",
   "metadata": {
    "execution": {
     "iopub.execute_input": "2025-09-12T11:17:40.944484Z",
     "iopub.status.busy": "2025-09-12T11:17:40.944115Z",
     "iopub.status.idle": "2025-09-12T11:20:42.853014Z",
     "shell.execute_reply": "2025-09-12T11:20:42.852273Z"
    },
    "papermill": {
     "duration": 181.917392,
     "end_time": "2025-09-12T11:20:42.854614",
     "exception": false,
     "start_time": "2025-09-12T11:17:40.937222",
     "status": "completed"
    },
    "tags": []
   },
   "outputs": [
    {
     "name": "stdout",
     "output_type": "stream",
     "text": [
      "Training LightGBM...\n",
      "Training completed in 156.86 seconds\n",
      "\n",
      "LightGBM Performance:\n",
      "Accuracy: 0.9091\n",
      "F1-Score: 0.9132\n",
      "Total Inference Time: 21.2293s\n",
      "Avg Inference per Sample: 0.0137ms\n",
      "Peak Memory Used: 391.24MB\n",
      "\n",
      "LightGBM - Detailed Classification Report:\n",
      "              precision    recall  f1-score   support\n",
      "\n",
      "      benign       1.00      1.00      1.00    848656\n",
      "   malicious       0.94      0.77      0.85    505862\n",
      "     outlier       0.60      0.88      0.71    199346\n",
      "\n",
      "    accuracy                           0.91   1553864\n",
      "   macro avg       0.85      0.88      0.85   1553864\n",
      "weighted avg       0.93      0.91      0.91   1553864\n",
      "\n",
      "\n",
      "Top 5 Important Features:\n",
      "       feature  importance\n",
      "0       src_ip        5579\n",
      "13    time_end        3640\n",
      "12  time_start        3625\n",
      "3    dest_port        3125\n",
      "1     src_port        2656\n"
     ]
    },
    {
     "data": {
      "text/plain": [
       "6"
      ]
     },
     "execution_count": 10,
     "metadata": {},
     "output_type": "execute_result"
    }
   ],
   "source": [
    "print(\"Training LightGBM...\")\n",
    "\n",
    "# LightGBM with optimized parameters for speed\n",
    "lgb_model = lgb.LGBMClassifier(\n",
    "    n_estimators=150,        # More trees for better learning\n",
    "    max_depth=8,            # Deeper for complex patterns  \n",
    "    learning_rate=0.05,     # Slower, more stable learning\n",
    "    num_leaves=63,          # Finer granularity\n",
    "    class_weight='balanced', # Handle imbalance\n",
    "    objective='multiclass', # Explicit 3-class problem\n",
    "    metric='multi_logloss', # Proper evaluation\n",
    "    random_state=SEED,        # Reproducibility\n",
    "    n_jobs=-1,             # Use all cores\n",
    "    verbose=-1             # Suppress output\n",
    ")\n",
    "\n",
    "# Train the model\n",
    "start_train = time.time()\n",
    "lgb_model.fit(X_train, y_train)\n",
    "train_time = time.time() - start_train\n",
    "\n",
    "print(f\"Training completed in {train_time:.2f} seconds\")\n",
    "\n",
    "# Evaluate performance\n",
    "lgb_results = measure_performance(lgb_model, X_test, y_test, \"LightGBM\")\n",
    "print_classification_report(y_test, lgb_results['Predictions'], \"LightGBM\")\n",
    "\n",
    "# Feature importance\n",
    "lgb_importance = pd.DataFrame({\n",
    "    'feature': X_train.columns,\n",
    "    'importance': lgb_model.feature_importances_\n",
    "}).sort_values('importance', ascending=False)\n",
    "\n",
    "print(f\"\\nTop 5 Important Features:\")\n",
    "print(lgb_importance.head())\n",
    "\n",
    "# Cleanup\n",
    "gc.collect()\n"
   ]
  },
  {
   "cell_type": "code",
   "execution_count": 11,
   "id": "7ff2b7cd",
   "metadata": {
    "execution": {
     "iopub.execute_input": "2025-09-12T11:20:42.867228Z",
     "iopub.status.busy": "2025-09-12T11:20:42.866903Z",
     "iopub.status.idle": "2025-09-12T12:05:55.399224Z",
     "shell.execute_reply": "2025-09-12T12:05:55.398022Z"
    },
    "papermill": {
     "duration": 2715.365017,
     "end_time": "2025-09-12T12:05:58.225302",
     "exception": false,
     "start_time": "2025-09-12T11:20:42.860285",
     "status": "completed"
    },
    "tags": []
   },
   "outputs": [
    {
     "name": "stdout",
     "output_type": "stream",
     "text": [
      "Training Lightweight DNN...\n",
      "Model architecture:\n"
     ]
    },
    {
     "name": "stderr",
     "output_type": "stream",
     "text": [
      "2025-09-12 11:20:43.144145: E external/local_xla/xla/stream_executor/cuda/cuda_driver.cc:152] failed call to cuInit: INTERNAL: CUDA error: Failed call to cuInit: UNKNOWN ERROR (303)\n"
     ]
    },
    {
     "data": {
      "text/html": [
       "<pre style=\"white-space:pre;overflow-x:auto;line-height:normal;font-family:Menlo,'DejaVu Sans Mono',consolas,'Courier New',monospace\"><span style=\"font-weight: bold\">Model: \"sequential\"</span>\n",
       "</pre>\n"
      ],
      "text/plain": [
       "\u001b[1mModel: \"sequential\"\u001b[0m\n"
      ]
     },
     "metadata": {},
     "output_type": "display_data"
    },
    {
     "data": {
      "text/html": [
       "<pre style=\"white-space:pre;overflow-x:auto;line-height:normal;font-family:Menlo,'DejaVu Sans Mono',consolas,'Courier New',monospace\">┏━━━━━━━━━━━━━━━━━━━━━━━━━━━━━━━━━┳━━━━━━━━━━━━━━━━━━━━━━━━┳━━━━━━━━━━━━━━━┓\n",
       "┃<span style=\"font-weight: bold\"> Layer (type)                    </span>┃<span style=\"font-weight: bold\"> Output Shape           </span>┃<span style=\"font-weight: bold\">       Param # </span>┃\n",
       "┡━━━━━━━━━━━━━━━━━━━━━━━━━━━━━━━━━╇━━━━━━━━━━━━━━━━━━━━━━━━╇━━━━━━━━━━━━━━━┩\n",
       "│ dense (<span style=\"color: #0087ff; text-decoration-color: #0087ff\">Dense</span>)                   │ (<span style=\"color: #00d7ff; text-decoration-color: #00d7ff\">None</span>, <span style=\"color: #00af00; text-decoration-color: #00af00\">128</span>)            │         <span style=\"color: #00af00; text-decoration-color: #00af00\">2,048</span> │\n",
       "├─────────────────────────────────┼────────────────────────┼───────────────┤\n",
       "│ batch_normalization             │ (<span style=\"color: #00d7ff; text-decoration-color: #00d7ff\">None</span>, <span style=\"color: #00af00; text-decoration-color: #00af00\">128</span>)            │           <span style=\"color: #00af00; text-decoration-color: #00af00\">512</span> │\n",
       "│ (<span style=\"color: #0087ff; text-decoration-color: #0087ff\">BatchNormalization</span>)            │                        │               │\n",
       "├─────────────────────────────────┼────────────────────────┼───────────────┤\n",
       "│ dropout (<span style=\"color: #0087ff; text-decoration-color: #0087ff\">Dropout</span>)               │ (<span style=\"color: #00d7ff; text-decoration-color: #00d7ff\">None</span>, <span style=\"color: #00af00; text-decoration-color: #00af00\">128</span>)            │             <span style=\"color: #00af00; text-decoration-color: #00af00\">0</span> │\n",
       "├─────────────────────────────────┼────────────────────────┼───────────────┤\n",
       "│ dense_1 (<span style=\"color: #0087ff; text-decoration-color: #0087ff\">Dense</span>)                 │ (<span style=\"color: #00d7ff; text-decoration-color: #00d7ff\">None</span>, <span style=\"color: #00af00; text-decoration-color: #00af00\">64</span>)             │         <span style=\"color: #00af00; text-decoration-color: #00af00\">8,256</span> │\n",
       "├─────────────────────────────────┼────────────────────────┼───────────────┤\n",
       "│ batch_normalization_1           │ (<span style=\"color: #00d7ff; text-decoration-color: #00d7ff\">None</span>, <span style=\"color: #00af00; text-decoration-color: #00af00\">64</span>)             │           <span style=\"color: #00af00; text-decoration-color: #00af00\">256</span> │\n",
       "│ (<span style=\"color: #0087ff; text-decoration-color: #0087ff\">BatchNormalization</span>)            │                        │               │\n",
       "├─────────────────────────────────┼────────────────────────┼───────────────┤\n",
       "│ dropout_1 (<span style=\"color: #0087ff; text-decoration-color: #0087ff\">Dropout</span>)             │ (<span style=\"color: #00d7ff; text-decoration-color: #00d7ff\">None</span>, <span style=\"color: #00af00; text-decoration-color: #00af00\">64</span>)             │             <span style=\"color: #00af00; text-decoration-color: #00af00\">0</span> │\n",
       "├─────────────────────────────────┼────────────────────────┼───────────────┤\n",
       "│ dense_2 (<span style=\"color: #0087ff; text-decoration-color: #0087ff\">Dense</span>)                 │ (<span style=\"color: #00d7ff; text-decoration-color: #00d7ff\">None</span>, <span style=\"color: #00af00; text-decoration-color: #00af00\">32</span>)             │         <span style=\"color: #00af00; text-decoration-color: #00af00\">2,080</span> │\n",
       "├─────────────────────────────────┼────────────────────────┼───────────────┤\n",
       "│ dropout_2 (<span style=\"color: #0087ff; text-decoration-color: #0087ff\">Dropout</span>)             │ (<span style=\"color: #00d7ff; text-decoration-color: #00d7ff\">None</span>, <span style=\"color: #00af00; text-decoration-color: #00af00\">32</span>)             │             <span style=\"color: #00af00; text-decoration-color: #00af00\">0</span> │\n",
       "├─────────────────────────────────┼────────────────────────┼───────────────┤\n",
       "│ dense_3 (<span style=\"color: #0087ff; text-decoration-color: #0087ff\">Dense</span>)                 │ (<span style=\"color: #00d7ff; text-decoration-color: #00d7ff\">None</span>, <span style=\"color: #00af00; text-decoration-color: #00af00\">3</span>)              │            <span style=\"color: #00af00; text-decoration-color: #00af00\">99</span> │\n",
       "└─────────────────────────────────┴────────────────────────┴───────────────┘\n",
       "</pre>\n"
      ],
      "text/plain": [
       "┏━━━━━━━━━━━━━━━━━━━━━━━━━━━━━━━━━┳━━━━━━━━━━━━━━━━━━━━━━━━┳━━━━━━━━━━━━━━━┓\n",
       "┃\u001b[1m \u001b[0m\u001b[1mLayer (type)                   \u001b[0m\u001b[1m \u001b[0m┃\u001b[1m \u001b[0m\u001b[1mOutput Shape          \u001b[0m\u001b[1m \u001b[0m┃\u001b[1m \u001b[0m\u001b[1m      Param #\u001b[0m\u001b[1m \u001b[0m┃\n",
       "┡━━━━━━━━━━━━━━━━━━━━━━━━━━━━━━━━━╇━━━━━━━━━━━━━━━━━━━━━━━━╇━━━━━━━━━━━━━━━┩\n",
       "│ dense (\u001b[38;5;33mDense\u001b[0m)                   │ (\u001b[38;5;45mNone\u001b[0m, \u001b[38;5;34m128\u001b[0m)            │         \u001b[38;5;34m2,048\u001b[0m │\n",
       "├─────────────────────────────────┼────────────────────────┼───────────────┤\n",
       "│ batch_normalization             │ (\u001b[38;5;45mNone\u001b[0m, \u001b[38;5;34m128\u001b[0m)            │           \u001b[38;5;34m512\u001b[0m │\n",
       "│ (\u001b[38;5;33mBatchNormalization\u001b[0m)            │                        │               │\n",
       "├─────────────────────────────────┼────────────────────────┼───────────────┤\n",
       "│ dropout (\u001b[38;5;33mDropout\u001b[0m)               │ (\u001b[38;5;45mNone\u001b[0m, \u001b[38;5;34m128\u001b[0m)            │             \u001b[38;5;34m0\u001b[0m │\n",
       "├─────────────────────────────────┼────────────────────────┼───────────────┤\n",
       "│ dense_1 (\u001b[38;5;33mDense\u001b[0m)                 │ (\u001b[38;5;45mNone\u001b[0m, \u001b[38;5;34m64\u001b[0m)             │         \u001b[38;5;34m8,256\u001b[0m │\n",
       "├─────────────────────────────────┼────────────────────────┼───────────────┤\n",
       "│ batch_normalization_1           │ (\u001b[38;5;45mNone\u001b[0m, \u001b[38;5;34m64\u001b[0m)             │           \u001b[38;5;34m256\u001b[0m │\n",
       "│ (\u001b[38;5;33mBatchNormalization\u001b[0m)            │                        │               │\n",
       "├─────────────────────────────────┼────────────────────────┼───────────────┤\n",
       "│ dropout_1 (\u001b[38;5;33mDropout\u001b[0m)             │ (\u001b[38;5;45mNone\u001b[0m, \u001b[38;5;34m64\u001b[0m)             │             \u001b[38;5;34m0\u001b[0m │\n",
       "├─────────────────────────────────┼────────────────────────┼───────────────┤\n",
       "│ dense_2 (\u001b[38;5;33mDense\u001b[0m)                 │ (\u001b[38;5;45mNone\u001b[0m, \u001b[38;5;34m32\u001b[0m)             │         \u001b[38;5;34m2,080\u001b[0m │\n",
       "├─────────────────────────────────┼────────────────────────┼───────────────┤\n",
       "│ dropout_2 (\u001b[38;5;33mDropout\u001b[0m)             │ (\u001b[38;5;45mNone\u001b[0m, \u001b[38;5;34m32\u001b[0m)             │             \u001b[38;5;34m0\u001b[0m │\n",
       "├─────────────────────────────────┼────────────────────────┼───────────────┤\n",
       "│ dense_3 (\u001b[38;5;33mDense\u001b[0m)                 │ (\u001b[38;5;45mNone\u001b[0m, \u001b[38;5;34m3\u001b[0m)              │            \u001b[38;5;34m99\u001b[0m │\n",
       "└─────────────────────────────────┴────────────────────────┴───────────────┘\n"
      ]
     },
     "metadata": {},
     "output_type": "display_data"
    },
    {
     "data": {
      "text/html": [
       "<pre style=\"white-space:pre;overflow-x:auto;line-height:normal;font-family:Menlo,'DejaVu Sans Mono',consolas,'Courier New',monospace\"><span style=\"font-weight: bold\"> Total params: </span><span style=\"color: #00af00; text-decoration-color: #00af00\">13,251</span> (51.76 KB)\n",
       "</pre>\n"
      ],
      "text/plain": [
       "\u001b[1m Total params: \u001b[0m\u001b[38;5;34m13,251\u001b[0m (51.76 KB)\n"
      ]
     },
     "metadata": {},
     "output_type": "display_data"
    },
    {
     "data": {
      "text/html": [
       "<pre style=\"white-space:pre;overflow-x:auto;line-height:normal;font-family:Menlo,'DejaVu Sans Mono',consolas,'Courier New',monospace\"><span style=\"font-weight: bold\"> Trainable params: </span><span style=\"color: #00af00; text-decoration-color: #00af00\">12,867</span> (50.26 KB)\n",
       "</pre>\n"
      ],
      "text/plain": [
       "\u001b[1m Trainable params: \u001b[0m\u001b[38;5;34m12,867\u001b[0m (50.26 KB)\n"
      ]
     },
     "metadata": {},
     "output_type": "display_data"
    },
    {
     "data": {
      "text/html": [
       "<pre style=\"white-space:pre;overflow-x:auto;line-height:normal;font-family:Menlo,'DejaVu Sans Mono',consolas,'Courier New',monospace\"><span style=\"font-weight: bold\"> Non-trainable params: </span><span style=\"color: #00af00; text-decoration-color: #00af00\">384</span> (1.50 KB)\n",
       "</pre>\n"
      ],
      "text/plain": [
       "\u001b[1m Non-trainable params: \u001b[0m\u001b[38;5;34m384\u001b[0m (1.50 KB)\n"
      ]
     },
     "metadata": {},
     "output_type": "display_data"
    },
    {
     "name": "stdout",
     "output_type": "stream",
     "text": [
      "Epoch 1/50\n",
      "\u001b[1m4856/4856\u001b[0m \u001b[32m━━━━━━━━━━━━━━━━━━━━\u001b[0m\u001b[37m\u001b[0m \u001b[1m58s\u001b[0m 11ms/step - accuracy: 0.6831 - loss: 1.1421 - val_accuracy: 0.7571 - val_loss: 0.3335\n",
      "Epoch 2/50\n",
      "\u001b[1m4856/4856\u001b[0m \u001b[32m━━━━━━━━━━━━━━━━━━━━\u001b[0m\u001b[37m\u001b[0m \u001b[1m53s\u001b[0m 11ms/step - accuracy: 0.7755 - loss: 0.7752 - val_accuracy: 0.7992 - val_loss: 0.3156\n",
      "Epoch 3/50\n",
      "\u001b[1m4856/4856\u001b[0m \u001b[32m━━━━━━━━━━━━━━━━━━━━\u001b[0m\u001b[37m\u001b[0m \u001b[1m53s\u001b[0m 11ms/step - accuracy: 0.7949 - loss: 0.7389 - val_accuracy: 0.8239 - val_loss: 0.3026\n",
      "Epoch 4/50\n",
      "\u001b[1m4856/4856\u001b[0m \u001b[32m━━━━━━━━━━━━━━━━━━━━\u001b[0m\u001b[37m\u001b[0m \u001b[1m53s\u001b[0m 11ms/step - accuracy: 0.8177 - loss: 0.7136 - val_accuracy: 0.8290 - val_loss: 0.2948\n",
      "Epoch 5/50\n",
      "\u001b[1m4856/4856\u001b[0m \u001b[32m━━━━━━━━━━━━━━━━━━━━\u001b[0m\u001b[37m\u001b[0m \u001b[1m53s\u001b[0m 11ms/step - accuracy: 0.8283 - loss: 0.6933 - val_accuracy: 0.8283 - val_loss: 0.2914\n",
      "Epoch 6/50\n",
      "\u001b[1m4856/4856\u001b[0m \u001b[32m━━━━━━━━━━━━━━━━━━━━\u001b[0m\u001b[37m\u001b[0m \u001b[1m53s\u001b[0m 11ms/step - accuracy: 0.8323 - loss: 0.6806 - val_accuracy: 0.8360 - val_loss: 0.2841\n",
      "Epoch 7/50\n",
      "\u001b[1m4856/4856\u001b[0m \u001b[32m━━━━━━━━━━━━━━━━━━━━\u001b[0m\u001b[37m\u001b[0m \u001b[1m54s\u001b[0m 11ms/step - accuracy: 0.8341 - loss: 0.6728 - val_accuracy: 0.8423 - val_loss: 0.2788\n",
      "Epoch 8/50\n",
      "\u001b[1m4856/4856\u001b[0m \u001b[32m━━━━━━━━━━━━━━━━━━━━\u001b[0m\u001b[37m\u001b[0m \u001b[1m53s\u001b[0m 11ms/step - accuracy: 0.8364 - loss: 0.6651 - val_accuracy: 0.8359 - val_loss: 0.2848\n",
      "Epoch 9/50\n",
      "\u001b[1m4856/4856\u001b[0m \u001b[32m━━━━━━━━━━━━━━━━━━━━\u001b[0m\u001b[37m\u001b[0m \u001b[1m53s\u001b[0m 11ms/step - accuracy: 0.8373 - loss: 0.6605 - val_accuracy: 0.8436 - val_loss: 0.2788\n",
      "Epoch 10/50\n",
      "\u001b[1m4856/4856\u001b[0m \u001b[32m━━━━━━━━━━━━━━━━━━━━\u001b[0m\u001b[37m\u001b[0m \u001b[1m55s\u001b[0m 11ms/step - accuracy: 0.8393 - loss: 0.6545 - val_accuracy: 0.8458 - val_loss: 0.2753\n",
      "Epoch 11/50\n",
      "\u001b[1m4856/4856\u001b[0m \u001b[32m━━━━━━━━━━━━━━━━━━━━\u001b[0m\u001b[37m\u001b[0m \u001b[1m55s\u001b[0m 11ms/step - accuracy: 0.8401 - loss: 0.6511 - val_accuracy: 0.8447 - val_loss: 0.2767\n",
      "Epoch 12/50\n",
      "\u001b[1m4856/4856\u001b[0m \u001b[32m━━━━━━━━━━━━━━━━━━━━\u001b[0m\u001b[37m\u001b[0m \u001b[1m54s\u001b[0m 11ms/step - accuracy: 0.8409 - loss: 0.6485 - val_accuracy: 0.8476 - val_loss: 0.2737\n",
      "Epoch 13/50\n",
      "\u001b[1m4856/4856\u001b[0m \u001b[32m━━━━━━━━━━━━━━━━━━━━\u001b[0m\u001b[37m\u001b[0m \u001b[1m53s\u001b[0m 11ms/step - accuracy: 0.8414 - loss: 0.6464 - val_accuracy: 0.8449 - val_loss: 0.2760\n",
      "Epoch 14/50\n",
      "\u001b[1m4856/4856\u001b[0m \u001b[32m━━━━━━━━━━━━━━━━━━━━\u001b[0m\u001b[37m\u001b[0m \u001b[1m53s\u001b[0m 11ms/step - accuracy: 0.8424 - loss: 0.6432 - val_accuracy: 0.8428 - val_loss: 0.2756\n",
      "Epoch 15/50\n",
      "\u001b[1m4856/4856\u001b[0m \u001b[32m━━━━━━━━━━━━━━━━━━━━\u001b[0m\u001b[37m\u001b[0m \u001b[1m53s\u001b[0m 11ms/step - accuracy: 0.8431 - loss: 0.6400 - val_accuracy: 0.8493 - val_loss: 0.2707\n",
      "Epoch 16/50\n",
      "\u001b[1m4856/4856\u001b[0m \u001b[32m━━━━━━━━━━━━━━━━━━━━\u001b[0m\u001b[37m\u001b[0m \u001b[1m56s\u001b[0m 11ms/step - accuracy: 0.8443 - loss: 0.6380 - val_accuracy: 0.8493 - val_loss: 0.2681\n",
      "Epoch 17/50\n",
      "\u001b[1m4856/4856\u001b[0m \u001b[32m━━━━━━━━━━━━━━━━━━━━\u001b[0m\u001b[37m\u001b[0m \u001b[1m53s\u001b[0m 11ms/step - accuracy: 0.8441 - loss: 0.6374 - val_accuracy: 0.8483 - val_loss: 0.2677\n",
      "Epoch 18/50\n",
      "\u001b[1m4856/4856\u001b[0m \u001b[32m━━━━━━━━━━━━━━━━━━━━\u001b[0m\u001b[37m\u001b[0m \u001b[1m53s\u001b[0m 11ms/step - accuracy: 0.8444 - loss: 0.6344 - val_accuracy: 0.8486 - val_loss: 0.2689\n",
      "Epoch 19/50\n",
      "\u001b[1m4856/4856\u001b[0m \u001b[32m━━━━━━━━━━━━━━━━━━━━\u001b[0m\u001b[37m\u001b[0m \u001b[1m53s\u001b[0m 11ms/step - accuracy: 0.8454 - loss: 0.6321 - val_accuracy: 0.8494 - val_loss: 0.2662\n",
      "Epoch 20/50\n",
      "\u001b[1m4856/4856\u001b[0m \u001b[32m━━━━━━━━━━━━━━━━━━━━\u001b[0m\u001b[37m\u001b[0m \u001b[1m53s\u001b[0m 11ms/step - accuracy: 0.8450 - loss: 0.6317 - val_accuracy: 0.8505 - val_loss: 0.2667\n",
      "Epoch 21/50\n",
      "\u001b[1m4856/4856\u001b[0m \u001b[32m━━━━━━━━━━━━━━━━━━━━\u001b[0m\u001b[37m\u001b[0m \u001b[1m53s\u001b[0m 11ms/step - accuracy: 0.8460 - loss: 0.6298 - val_accuracy: 0.8509 - val_loss: 0.2640\n",
      "Epoch 22/50\n",
      "\u001b[1m4856/4856\u001b[0m \u001b[32m━━━━━━━━━━━━━━━━━━━━\u001b[0m\u001b[37m\u001b[0m \u001b[1m52s\u001b[0m 11ms/step - accuracy: 0.8458 - loss: 0.6284 - val_accuracy: 0.8522 - val_loss: 0.2637\n",
      "Epoch 23/50\n",
      "\u001b[1m4856/4856\u001b[0m \u001b[32m━━━━━━━━━━━━━━━━━━━━\u001b[0m\u001b[37m\u001b[0m \u001b[1m53s\u001b[0m 11ms/step - accuracy: 0.8473 - loss: 0.6263 - val_accuracy: 0.8491 - val_loss: 0.2661\n",
      "Epoch 24/50\n",
      "\u001b[1m4856/4856\u001b[0m \u001b[32m━━━━━━━━━━━━━━━━━━━━\u001b[0m\u001b[37m\u001b[0m \u001b[1m54s\u001b[0m 11ms/step - accuracy: 0.8471 - loss: 0.6252 - val_accuracy: 0.8530 - val_loss: 0.2611\n",
      "Epoch 25/50\n",
      "\u001b[1m4856/4856\u001b[0m \u001b[32m━━━━━━━━━━━━━━━━━━━━\u001b[0m\u001b[37m\u001b[0m \u001b[1m53s\u001b[0m 11ms/step - accuracy: 0.8471 - loss: 0.6247 - val_accuracy: 0.8530 - val_loss: 0.2624\n",
      "Epoch 26/50\n",
      "\u001b[1m4856/4856\u001b[0m \u001b[32m━━━━━━━━━━━━━━━━━━━━\u001b[0m\u001b[37m\u001b[0m \u001b[1m54s\u001b[0m 11ms/step - accuracy: 0.8473 - loss: 0.6234 - val_accuracy: 0.8521 - val_loss: 0.2617\n",
      "Epoch 27/50\n",
      "\u001b[1m4856/4856\u001b[0m \u001b[32m━━━━━━━━━━━━━━━━━━━━\u001b[0m\u001b[37m\u001b[0m \u001b[1m57s\u001b[0m 12ms/step - accuracy: 0.8477 - loss: 0.6213 - val_accuracy: 0.8534 - val_loss: 0.2588\n",
      "Epoch 28/50\n",
      "\u001b[1m4856/4856\u001b[0m \u001b[32m━━━━━━━━━━━━━━━━━━━━\u001b[0m\u001b[37m\u001b[0m \u001b[1m55s\u001b[0m 11ms/step - accuracy: 0.8480 - loss: 0.6207 - val_accuracy: 0.8504 - val_loss: 0.2619\n",
      "Epoch 29/50\n",
      "\u001b[1m4856/4856\u001b[0m \u001b[32m━━━━━━━━━━━━━━━━━━━━\u001b[0m\u001b[37m\u001b[0m \u001b[1m55s\u001b[0m 11ms/step - accuracy: 0.8481 - loss: 0.6204 - val_accuracy: 0.8479 - val_loss: 0.2651\n",
      "Epoch 30/50\n",
      "\u001b[1m4856/4856\u001b[0m \u001b[32m━━━━━━━━━━━━━━━━━━━━\u001b[0m\u001b[37m\u001b[0m \u001b[1m55s\u001b[0m 11ms/step - accuracy: 0.8487 - loss: 0.6181 - val_accuracy: 0.8505 - val_loss: 0.2631\n",
      "Epoch 31/50\n",
      "\u001b[1m4856/4856\u001b[0m \u001b[32m━━━━━━━━━━━━━━━━━━━━\u001b[0m\u001b[37m\u001b[0m \u001b[1m54s\u001b[0m 11ms/step - accuracy: 0.8487 - loss: 0.6174 - val_accuracy: 0.8538 - val_loss: 0.2574\n",
      "Epoch 32/50\n",
      "\u001b[1m4856/4856\u001b[0m \u001b[32m━━━━━━━━━━━━━━━━━━━━\u001b[0m\u001b[37m\u001b[0m \u001b[1m54s\u001b[0m 11ms/step - accuracy: 0.8490 - loss: 0.6165 - val_accuracy: 0.8539 - val_loss: 0.2566\n",
      "Epoch 33/50\n",
      "\u001b[1m4856/4856\u001b[0m \u001b[32m━━━━━━━━━━━━━━━━━━━━\u001b[0m\u001b[37m\u001b[0m \u001b[1m54s\u001b[0m 11ms/step - accuracy: 0.8490 - loss: 0.6165 - val_accuracy: 0.8523 - val_loss: 0.2590\n",
      "Epoch 34/50\n",
      "\u001b[1m4856/4856\u001b[0m \u001b[32m━━━━━━━━━━━━━━━━━━━━\u001b[0m\u001b[37m\u001b[0m \u001b[1m54s\u001b[0m 11ms/step - accuracy: 0.8496 - loss: 0.6148 - val_accuracy: 0.8551 - val_loss: 0.2562\n",
      "Epoch 35/50\n",
      "\u001b[1m4856/4856\u001b[0m \u001b[32m━━━━━━━━━━━━━━━━━━━━\u001b[0m\u001b[37m\u001b[0m \u001b[1m54s\u001b[0m 11ms/step - accuracy: 0.8499 - loss: 0.6141 - val_accuracy: 0.8559 - val_loss: 0.2536\n",
      "Epoch 36/50\n",
      "\u001b[1m4856/4856\u001b[0m \u001b[32m━━━━━━━━━━━━━━━━━━━━\u001b[0m\u001b[37m\u001b[0m \u001b[1m53s\u001b[0m 11ms/step - accuracy: 0.8503 - loss: 0.6133 - val_accuracy: 0.8541 - val_loss: 0.2577\n",
      "Epoch 37/50\n",
      "\u001b[1m4856/4856\u001b[0m \u001b[32m━━━━━━━━━━━━━━━━━━━━\u001b[0m\u001b[37m\u001b[0m \u001b[1m54s\u001b[0m 11ms/step - accuracy: 0.8504 - loss: 0.6121 - val_accuracy: 0.8567 - val_loss: 0.2545\n",
      "Epoch 38/50\n",
      "\u001b[1m4856/4856\u001b[0m \u001b[32m━━━━━━━━━━━━━━━━━━━━\u001b[0m\u001b[37m\u001b[0m \u001b[1m54s\u001b[0m 11ms/step - accuracy: 0.8507 - loss: 0.6120 - val_accuracy: 0.8550 - val_loss: 0.2557\n",
      "Epoch 39/50\n",
      "\u001b[1m4856/4856\u001b[0m \u001b[32m━━━━━━━━━━━━━━━━━━━━\u001b[0m\u001b[37m\u001b[0m \u001b[1m54s\u001b[0m 11ms/step - accuracy: 0.8512 - loss: 0.6113 - val_accuracy: 0.8530 - val_loss: 0.2580\n",
      "Epoch 40/50\n",
      "\u001b[1m4856/4856\u001b[0m \u001b[32m━━━━━━━━━━━━━━━━━━━━\u001b[0m\u001b[37m\u001b[0m \u001b[1m55s\u001b[0m 11ms/step - accuracy: 0.8514 - loss: 0.6112 - val_accuracy: 0.8587 - val_loss: 0.2542\n",
      "Epoch 41/50\n",
      "\u001b[1m4856/4856\u001b[0m \u001b[32m━━━━━━━━━━━━━━━━━━━━\u001b[0m\u001b[37m\u001b[0m \u001b[1m54s\u001b[0m 11ms/step - accuracy: 0.8516 - loss: 0.6098 - val_accuracy: 0.8542 - val_loss: 0.2568\n",
      "Epoch 42/50\n",
      "\u001b[1m4856/4856\u001b[0m \u001b[32m━━━━━━━━━━━━━━━━━━━━\u001b[0m\u001b[37m\u001b[0m \u001b[1m53s\u001b[0m 11ms/step - accuracy: 0.8515 - loss: 0.6093 - val_accuracy: 0.8594 - val_loss: 0.2532\n",
      "Epoch 43/50\n",
      "\u001b[1m4856/4856\u001b[0m \u001b[32m━━━━━━━━━━━━━━━━━━━━\u001b[0m\u001b[37m\u001b[0m \u001b[1m54s\u001b[0m 11ms/step - accuracy: 0.8520 - loss: 0.6093 - val_accuracy: 0.8557 - val_loss: 0.2574\n",
      "Epoch 44/50\n",
      "\u001b[1m4856/4856\u001b[0m \u001b[32m━━━━━━━━━━━━━━━━━━━━\u001b[0m\u001b[37m\u001b[0m \u001b[1m54s\u001b[0m 11ms/step - accuracy: 0.8520 - loss: 0.6091 - val_accuracy: 0.8570 - val_loss: 0.2533\n",
      "Epoch 45/50\n",
      "\u001b[1m4856/4856\u001b[0m \u001b[32m━━━━━━━━━━━━━━━━━━━━\u001b[0m\u001b[37m\u001b[0m \u001b[1m57s\u001b[0m 12ms/step - accuracy: 0.8523 - loss: 0.6079 - val_accuracy: 0.8594 - val_loss: 0.2548\n",
      "Epoch 46/50\n",
      "\u001b[1m4856/4856\u001b[0m \u001b[32m━━━━━━━━━━━━━━━━━━━━\u001b[0m\u001b[37m\u001b[0m \u001b[1m54s\u001b[0m 11ms/step - accuracy: 0.8517 - loss: 0.6091 - val_accuracy: 0.8528 - val_loss: 0.2586\n",
      "Epoch 47/50\n",
      "\u001b[1m4856/4856\u001b[0m \u001b[32m━━━━━━━━━━━━━━━━━━━━\u001b[0m\u001b[37m\u001b[0m \u001b[1m54s\u001b[0m 11ms/step - accuracy: 0.8523 - loss: 0.6072 - val_accuracy: 0.8532 - val_loss: 0.2587\n",
      "Epoch 48/50\n",
      "\u001b[1m4856/4856\u001b[0m \u001b[32m━━━━━━━━━━━━━━━━━━━━\u001b[0m\u001b[37m\u001b[0m \u001b[1m54s\u001b[0m 11ms/step - accuracy: 0.8522 - loss: 0.6083 - val_accuracy: 0.8587 - val_loss: 0.2530\n",
      "Epoch 49/50\n",
      "\u001b[1m4856/4856\u001b[0m \u001b[32m━━━━━━━━━━━━━━━━━━━━\u001b[0m\u001b[37m\u001b[0m \u001b[1m54s\u001b[0m 11ms/step - accuracy: 0.8522 - loss: 0.6071 - val_accuracy: 0.8542 - val_loss: 0.2564\n",
      "Epoch 50/50\n",
      "\u001b[1m4856/4856\u001b[0m \u001b[32m━━━━━━━━━━━━━━━━━━━━\u001b[0m\u001b[37m\u001b[0m \u001b[1m56s\u001b[0m 11ms/step - accuracy: 0.8520 - loss: 0.6074 - val_accuracy: 0.8584 - val_loss: 0.2544\n",
      "Training completed in 2698.41 seconds\n",
      "\u001b[1m1518/1518\u001b[0m \u001b[32m━━━━━━━━━━━━━━━━━━━━\u001b[0m\u001b[37m\u001b[0m \u001b[1m8s\u001b[0m 5ms/step\n",
      "\n",
      "Lightweight DNN Performance:\n",
      "Accuracy: 0.8595\n",
      "F1-Score: 0.8664\n",
      "Total Inference Time: 9.6344s\n",
      "Avg Inference per Sample: 0.0062ms\n",
      "Peak Memory Used: 178.02MB\n",
      "\n",
      "Lightweight DNN - Detailed Classification Report:\n",
      "              precision    recall  f1-score   support\n",
      "\n",
      "      benign       1.00      1.00      1.00    848656\n",
      "   malicious       0.89      0.65      0.75    505862\n",
      "     outlier       0.47      0.80      0.59    199346\n",
      "\n",
      "    accuracy                           0.86   1553864\n",
      "   macro avg       0.79      0.81      0.78   1553864\n",
      "weighted avg       0.90      0.86      0.87   1553864\n",
      "\n"
     ]
    },
    {
     "data": {
      "text/plain": [
       "501"
      ]
     },
     "execution_count": 11,
     "metadata": {},
     "output_type": "execute_result"
    }
   ],
   "source": [
    "print(\"Training Lightweight DNN...\")\n",
    "\n",
    "# Convert target to categorical for neural network\n",
    "y_train_cat = to_categorical(y_train)\n",
    "y_test_cat = to_categorical(y_test)\n",
    "\n",
    "# Define lightweight DNN architecture\n",
    "def create_lightweight_dnn(input_dim, num_classes):\n",
    "    model = Sequential([\n",
    "        Dense(128, activation='relu', input_shape=(input_dim,)),\n",
    "        BatchNormalization(),\n",
    "        Dropout(0.4),\n",
    "        \n",
    "        Dense(64, activation='relu'),\n",
    "        BatchNormalization(), \n",
    "        Dropout(0.3),\n",
    "        \n",
    "        Dense(32, activation='relu'),\n",
    "        Dropout(0.2),\n",
    "        \n",
    "        Dense(num_classes, activation='softmax')\n",
    "    ])\n",
    "    \n",
    "    model.compile(\n",
    "        optimizer=Adam(learning_rate=0.0001),\n",
    "        loss='categorical_crossentropy',\n",
    "        metrics=['accuracy']\n",
    "    )\n",
    "    return model\n",
    "\n",
    "# Create and train model\n",
    "dnn_model = create_lightweight_dnn(X_train_scaled.shape[1], len(label_encoder.classes_))\n",
    "\n",
    "# Early stopping to prevent overfitting\n",
    "early_stopping = EarlyStopping(\n",
    "    monitor='val_loss',\n",
    "    patience=10,\n",
    "    restore_best_weights=True\n",
    ")\n",
    "\n",
    "print(\"Model architecture:\")\n",
    "dnn_model.summary()\n",
    "\n",
    "# Train the model\n",
    "start_train = time.time()\n",
    "history = dnn_model.fit(\n",
    "    X_train_scaled, y_train_cat,\n",
    "    batch_size=1024,  # Larger batch size for speed\n",
    "    epochs=50,\n",
    "    validation_split=0.2,\n",
    "    callbacks=[early_stopping],\n",
    "    verbose=1,\n",
    "    class_weight={0: 1.0, 1: 1.6, 2: 4.2}\n",
    ")\n",
    "train_time = time.time() - start_train\n",
    "\n",
    "print(f\"Training completed in {train_time:.2f} seconds\")\n",
    "\n",
    "# Convert DNN predictions back to single labels\n",
    "def predict_dnn(model, X):\n",
    "    predictions_prob = model.predict(X, batch_size=1024)\n",
    "    return np.argmax(predictions_prob, axis=1)\n",
    "\n",
    "# Create a wrapper for consistent interface\n",
    "class DNNWrapper:\n",
    "    def __init__(self, model):\n",
    "        self.model = model\n",
    "    \n",
    "    def predict(self, X):\n",
    "        return predict_dnn(self.model, X)\n",
    "\n",
    "dnn_wrapper = DNNWrapper(dnn_model)\n",
    "\n",
    "# Evaluate performance\n",
    "dnn_results = measure_performance(dnn_wrapper, X_test_scaled, y_test, \"Lightweight DNN\")\n",
    "print_classification_report(y_test, dnn_results['Predictions'], \"Lightweight DNN\")\n",
    "\n",
    "# Cleanup\n",
    "gc.collect()\n"
   ]
  },
  {
   "cell_type": "code",
   "execution_count": 12,
   "id": "8c67d1e4",
   "metadata": {
    "execution": {
     "iopub.execute_input": "2025-09-12T12:06:03.594094Z",
     "iopub.status.busy": "2025-09-12T12:06:03.593711Z",
     "iopub.status.idle": "2025-09-12T12:06:03.614994Z",
     "shell.execute_reply": "2025-09-12T12:06:03.613859Z"
    },
    "papermill": {
     "duration": 2.658701,
     "end_time": "2025-09-12T12:06:03.617170",
     "exception": false,
     "start_time": "2025-09-12T12:06:00.958469",
     "status": "completed"
    },
    "tags": []
   },
   "outputs": [
    {
     "name": "stdout",
     "output_type": "stream",
     "text": [
      "Model Performance Comparison:\n",
      "====================================================================================================\n",
      "          Model  Accuracy  Precision  Recall  F1_Score  Total_Inference_Time_s  Avg_Inference_ms_per_sample  Memory_Used_MB\n",
      "  Random Forest    0.9497     0.9568  0.9497    0.9512                 17.6924                       0.0114        318.7567\n",
      "        XGBoost    0.9113     0.9077  0.9113    0.9048                  4.6714                       0.0030        195.6362\n",
      "       LightGBM    0.9091     0.9301  0.9091    0.9132                 21.2293                       0.0137        391.2374\n",
      "Lightweight DNN    0.8595     0.8960  0.8595    0.8664                  9.6344                       0.0062        178.0162\n",
      "\n",
      "Models meeting ≥90% accuracy threshold:\n",
      "==================================================\n",
      "        Model  Accuracy  Avg_Inference_ms_per_sample  Memory_Used_MB\n",
      "Random Forest  0.949688                     0.011386      318.756685\n",
      "      XGBoost  0.911317                     0.003006      195.636186\n",
      "     LightGBM  0.909134                     0.013662      391.237423\n",
      "\n",
      "Recommended model for deployment: XGBoost\n",
      "Accuracy: 0.9113\n",
      "Avg inference: 0.0030 ms/sample\n",
      "Memory usage: 195.64 MB\n"
     ]
    }
   ],
   "source": [
    "# Compile all results\n",
    "all_results = [rf_results, xgb_results, lgb_results, dnn_results]\n",
    "comparison_df = pd.DataFrame(all_results)\n",
    "\n",
    "# Remove predictions column for cleaner display\n",
    "display_df = comparison_df.drop('Predictions', axis=1)\n",
    "print(\"Model Performance Comparison:\")\n",
    "print(\"=\" * 100)\n",
    "print(display_df.to_string(index=False, float_format='%.4f'))\n",
    "\n",
    "# Identify models meeting accuracy threshold\n",
    "accuracy_threshold = 0.90\n",
    "qualifying_models = display_df[display_df['Accuracy'] >= accuracy_threshold]\n",
    "\n",
    "print(f\"\\nModels meeting ≥90% accuracy threshold:\")\n",
    "print(\"=\" * 50)\n",
    "if len(qualifying_models) > 0:\n",
    "    print(qualifying_models[['Model', 'Accuracy', 'Avg_Inference_ms_per_sample', 'Memory_Used_MB']].to_string(index=False))\n",
    "    \n",
    "    # Find the best model for deployment (highest accuracy, fastest inference)\n",
    "    best_model = qualifying_models.loc[qualifying_models['Avg_Inference_ms_per_sample'].idxmin()]\n",
    "    print(f\"\\nRecommended model for deployment: {best_model['Model']}\")\n",
    "    print(f\"Accuracy: {best_model['Accuracy']:.4f}\")\n",
    "    print(f\"Avg inference: {best_model['Avg_Inference_ms_per_sample']:.4f} ms/sample\")\n",
    "    print(f\"Memory usage: {best_model['Memory_Used_MB']:.2f} MB\")\n",
    "else:\n",
    "    print(\"No models meet the 90% accuracy threshold\")\n"
   ]
  },
  {
   "cell_type": "code",
   "execution_count": 13,
   "id": "6f1f75b9",
   "metadata": {
    "execution": {
     "iopub.execute_input": "2025-09-12T12:06:09.247125Z",
     "iopub.status.busy": "2025-09-12T12:06:09.246712Z",
     "iopub.status.idle": "2025-09-12T12:06:10.220792Z",
     "shell.execute_reply": "2025-09-12T12:06:10.219330Z"
    },
    "papermill": {
     "duration": 3.763203,
     "end_time": "2025-09-12T12:06:10.222735",
     "exception": false,
     "start_time": "2025-09-12T12:06:06.459532",
     "status": "completed"
    },
    "tags": []
   },
   "outputs": [
    {
     "data": {
      "image/png": "[encoded data removed]",
      "text/plain": [
       "<Figure size 1500x1200 with 4 Axes>"
      ]
     },
     "metadata": {},
     "output_type": "display_data"
    }
   ],
   "source": [
    "# Create comprehensive performance plots\n",
    "fig, axes = plt.subplots(2, 2, figsize=(15, 12))\n",
    "fig.suptitle('LUFlow Intrusion Detection - Model Performance Comparison', fontsize=16, fontweight='bold')\n",
    "\n",
    "# Plot 1: Accuracy Comparison\n",
    "models = display_df['Model']\n",
    "accuracies = display_df['Accuracy']\n",
    "\n",
    "bars1 = axes[0, 0].bar(models, accuracies, color=['#1f77b4', '#ff7f0e', '#2ca02c', '#d62728'])\n",
    "axes[0, 0].set_title('Model Accuracy Comparison')\n",
    "axes[0, 0].set_ylabel('Accuracy')\n",
    "axes[0, 0].axhline(y=0.90, color='red', linestyle='--', alpha=0.7, label='90% Threshold')\n",
    "axes[0, 0].legend()\n",
    "axes[0, 0].set_ylim(0.8, 1.0)\n",
    "\n",
    "# Add value labels on bars\n",
    "for bar, acc in zip(bars1, accuracies):\n",
    "    axes[0, 0].text(bar.get_x() + bar.get_width()/2, bar.get_height() + 0.005,\n",
    "                   f'{acc:.3f}', ha='center', va='bottom')\n",
    "\n",
    "# Plot 2: Inference Time Comparison\n",
    "inference_times = display_df['Avg_Inference_ms_per_sample']\n",
    "\n",
    "bars2 = axes[0, 1].bar(models, inference_times, color=['#1f77b4', '#ff7f0e', '#2ca02c', '#d62728'])\n",
    "axes[0, 1].set_title('Average Inference Time per Sample')\n",
    "axes[0, 1].set_ylabel('Time (ms)')\n",
    "axes[0, 1].axhline(y=0.1, color='red', linestyle='--', alpha=0.7, label='1ms Target')\n",
    "axes[0, 1].legend()\n",
    "\n",
    "# Add value labels on bars\n",
    "for bar, time_val in zip(bars2, inference_times):\n",
    "    axes[0, 1].text(bar.get_x() + bar.get_width()/2, bar.get_height() + 0.01,\n",
    "                   f'{time_val:.3f}', ha='center', va='bottom')\n",
    "\n",
    "# Plot 3: Memory Usage Comparison\n",
    "memory_usage = display_df['Memory_Used_MB']\n",
    "\n",
    "bars3 = axes[1, 0].bar(models, memory_usage, color=['#1f77b4', '#ff7f0e', '#2ca02c', '#d62728'])\n",
    "axes[1, 0].set_title('Memory Usage During Inference')\n",
    "axes[1, 0].set_ylabel('Memory (MB)')\n",
    "\n",
    "# Add value labels on bars\n",
    "for bar, mem in zip(bars3, memory_usage):\n",
    "    axes[1, 0].text(bar.get_x() + bar.get_width()/2, bar.get_height() + 0.5,\n",
    "                   f'{mem:.1f}', ha='center', va='bottom')\n",
    "\n",
    "# Plot 4: F1-Score Comparison\n",
    "f1_scores = display_df['F1_Score']\n",
    "\n",
    "bars4 = axes[1, 1].bar(models, f1_scores, color=['#1f77b4', '#ff7f0e', '#2ca02c', '#d62728'])\n",
    "axes[1, 1].set_title('F1-Score Comparison')\n",
    "axes[1, 1].set_ylabel('F1-Score')\n",
    "axes[1, 1].set_ylim(0.8, 1.0)\n",
    "\n",
    "# Add value labels on bars\n",
    "for bar, f1 in zip(bars4, f1_scores):\n",
    "    axes[1, 1].text(bar.get_x() + bar.get_width()/2, bar.get_height() + 0.005,\n",
    "                   f'{f1:.3f}', ha='center', va='bottom')\n",
    "\n",
    "plt.tight_layout()\n",
    "plt.show()\n",
    "\n",
    "# Rotate x-labels for better readability\n",
    "for ax in axes.flat:\n",
    "    ax.tick_params(axis='x', rotation=45)\n"
   ]
  },
  {
   "cell_type": "code",
   "execution_count": 14,
   "id": "45a42836",
   "metadata": {
    "execution": {
     "iopub.execute_input": "2025-09-12T12:06:15.716608Z",
     "iopub.status.busy": "2025-09-12T12:06:15.716219Z",
     "iopub.status.idle": "2025-09-12T12:06:15.742493Z",
     "shell.execute_reply": "2025-09-12T12:06:15.740861Z"
    },
    "papermill": {
     "duration": 2.718306,
     "end_time": "2025-09-12T12:06:15.744805",
     "exception": false,
     "start_time": "2025-09-12T12:06:13.026499",
     "status": "completed"
    },
    "tags": []
   },
   "outputs": [
    {
     "name": "stdout",
     "output_type": "stream",
     "text": [
      "================================================================================\n",
      "OBJECTIVE 1 RESULTS: MULTI-MODEL BENCHMARKING & SELECTION\n",
      "================================================================================\n",
      "\n",
      "Model Rankings by Different Criteria:\n",
      "--------------------------------------------------\n",
      "\n",
      "1. ACCURACY (≥90% requirement):\n",
      "   ✓ Random Forest: 0.9497\n",
      "   ✓ XGBoost: 0.9113\n",
      "   ✓ LightGBM: 0.9091\n",
      "   ✗ Lightweight DNN: 0.8595\n",
      "\n",
      "2. INFERENCE SPEED (≤5ms target):\n",
      "   ✓ XGBoost: 0.0030 ms/sample\n",
      "   ✓ Lightweight DNN: 0.0062 ms/sample\n",
      "   ✓ Random Forest: 0.0114 ms/sample\n",
      "   ✓ LightGBM: 0.0137 ms/sample\n",
      "\n",
      "3. MEMORY EFFICIENCY:\n",
      "   • Lightweight DNN: 178.02 MB\n",
      "   • XGBoost: 195.64 MB\n",
      "   • Random Forest: 318.76 MB\n",
      "   • LightGBM: 391.24 MB\n",
      "\n",
      "4. OVERALL EFFICIENCY (Accuracy/Speed Ratio):\n",
      "   • XGBoost: 303.14\n",
      "   • Lightweight DNN: 138.62\n",
      "   • Random Forest: 83.41\n",
      "   • LightGBM: 66.54\n",
      "\n",
      "============================================================\n",
      "DEPLOYMENT RECOMMENDATIONS\n",
      "============================================================\n",
      "\n",
      "🏆 RECOMMENDED FOR EDGE DEPLOYMENT: Random Forest\n",
      "   ✓ Accuracy: 0.9497 (≥90%)\n",
      "   ✓ Speed: 0.0114 ms/sample (≤5ms)\n",
      "   • Memory: 318.76 MB\n",
      "   • F1-Score: 0.9512\n",
      "\n",
      "🚀 FASTEST QUALIFIED MODEL: XGBoost\n",
      "   • Speed: 0.0030 ms/sample\n",
      "   • Accuracy: 0.9113\n",
      "\n",
      "📊 DATASET STATS:\n",
      "   • Training samples: 6,215,454\n",
      "   • Test samples: 1,553,864\n",
      "   • Features: 15\n",
      "   • Classes: 3 (benign, malicious, outlier)\n"
     ]
    }
   ],
   "source": [
    "print(\"=\"*80)\n",
    "print(\"OBJECTIVE 1 RESULTS: MULTI-MODEL BENCHMARKING & SELECTION\")\n",
    "print(\"=\"*80)\n",
    "\n",
    "# Calculate efficiency score (accuracy/inference_time ratio)\n",
    "display_df['Efficiency_Score'] = display_df['Accuracy'] / display_df['Avg_Inference_ms_per_sample']\n",
    "\n",
    "print(\"\\nModel Rankings by Different Criteria:\")\n",
    "print(\"-\" * 50)\n",
    "\n",
    "print(\"\\n1. ACCURACY (≥90% requirement):\")\n",
    "accuracy_ranked = display_df.sort_values('Accuracy', ascending=False)\n",
    "for idx, row in accuracy_ranked.iterrows():\n",
    "    status = \"✓\" if row['Accuracy'] >= 0.90 else \"✗\"\n",
    "    print(f\"   {status} {row['Model']}: {row['Accuracy']:.4f}\")\n",
    "\n",
    "print(\"\\n2. INFERENCE SPEED (≤5ms target):\")\n",
    "speed_ranked = display_df.sort_values('Avg_Inference_ms_per_sample', ascending=True)\n",
    "for idx, row in speed_ranked.iterrows():\n",
    "    status = \"✓\" if row['Avg_Inference_ms_per_sample'] <= 5.0 else \"✗\"\n",
    "    print(f\"   {status} {row['Model']}: {row['Avg_Inference_ms_per_sample']:.4f} ms/sample\")\n",
    "\n",
    "print(\"\\n3. MEMORY EFFICIENCY:\")\n",
    "memory_ranked = display_df.sort_values('Memory_Used_MB', ascending=True)\n",
    "for idx, row in memory_ranked.iterrows():\n",
    "    print(f\"   • {row['Model']}: {row['Memory_Used_MB']:.2f} MB\")\n",
    "\n",
    "print(\"\\n4. OVERALL EFFICIENCY (Accuracy/Speed Ratio):\")\n",
    "efficiency_ranked = display_df.sort_values('Efficiency_Score', ascending=False)\n",
    "for idx, row in efficiency_ranked.iterrows():\n",
    "    print(f\"   • {row['Model']}: {row['Efficiency_Score']:.2f}\")\n",
    "\n",
    "# Final recommendations\n",
    "print(\"\\n\" + \"=\"*60)\n",
    "print(\"DEPLOYMENT RECOMMENDATIONS\")\n",
    "print(\"=\"*60)\n",
    "\n",
    "qualified_models = display_df[display_df['Accuracy'] >= 0.90]\n",
    "if len(qualified_models) > 0:\n",
    "    # Best overall model (meeting accuracy + fastest)\n",
    "    if len(qualified_models[qualified_models['Avg_Inference_ms_per_sample'] <= 5.0]) > 0:\n",
    "        best_model = qualified_models[qualified_models['Avg_Inference_ms_per_sample'] <= 5.0].iloc[0]\n",
    "        print(f\"\\n🏆 RECOMMENDED FOR EDGE DEPLOYMENT: {best_model['Model']}\")\n",
    "        print(f\"   ✓ Accuracy: {best_model['Accuracy']:.4f} (≥90%)\")\n",
    "        print(f\"   ✓ Speed: {best_model['Avg_Inference_ms_per_sample']:.4f} ms/sample (≤5ms)\")\n",
    "        print(f\"   • Memory: {best_model['Memory_Used_MB']:.2f} MB\")\n",
    "        print(f\"   • F1-Score: {best_model['F1_Score']:.4f}\")\n",
    "    else:\n",
    "        best_model = qualified_models.iloc[0]\n",
    "        print(f\"\\n🥇 BEST ACCURACY MODEL: {best_model['Model']}\")\n",
    "        print(f\"   ✓ Accuracy: {best_model['Accuracy']:.4f}\")\n",
    "        print(f\"   ⚠ Speed: {best_model['Avg_Inference_ms_per_sample']:.4f} ms/sample (>5ms target)\")\n",
    "        print(f\"   • Memory: {best_model['Memory_Used_MB']:.2f} MB\")\n",
    "\n",
    "    fastest_qualified = qualified_models.loc[qualified_models['Avg_Inference_ms_per_sample'].idxmin()]\n",
    "    print(f\"\\n🚀 FASTEST QUALIFIED MODEL: {fastest_qualified['Model']}\")\n",
    "    print(f\"   • Speed: {fastest_qualified['Avg_Inference_ms_per_sample']:.4f} ms/sample\")\n",
    "    print(f\"   • Accuracy: {fastest_qualified['Accuracy']:.4f}\")\n",
    "else:\n",
    "    print(\"\\n⚠️  NO MODELS MEET 90% ACCURACY REQUIREMENT\")\n",
    "    print(\"   Consider hyperparameter tuning or feature engineering\")\n",
    "\n",
    "print(f\"\\n📊 DATASET STATS:\")\n",
    "print(f\"   • Training samples: {len(X_train):,}\")\n",
    "print(f\"   • Test samples: {len(X_test):,}\")\n",
    "print(f\"   • Features: {len(X_train.columns)}\")\n",
    "print(f\"   • Classes: {len(label_encoder.classes_)} ({', '.join(label_encoder.classes_)})\")\n"
   ]
  },
  {
   "cell_type": "code",
   "execution_count": null,
   "id": "94a00ebf",
   "metadata": {
    "papermill": {
     "duration": 2.623073,
     "end_time": "2025-09-12T12:06:21.092768",
     "exception": false,
     "start_time": "2025-09-12T12:06:18.469695",
     "status": "completed"
    },
    "tags": []
   },
   "outputs": [],
   "source": []
  }
 ],
 "metadata": {
  "kaggle": {
   "accelerator": "none",
   "dataSources": [
    {
     "datasetId": 8244732,
     "sourceId": 13021885,
     "sourceType": "datasetVersion"
    }
   ],
   "dockerImageVersionId": 31089,
   "isGpuEnabled": false,
   "isInternetEnabled": true,
   "language": "python",
   "sourceType": "notebook"
  },
  "kernelspec": {
   "display_name": "Python 3",
   "language": "python",
   "name": "python3"
  },
  "language_info": {
   "codemirror_mode": {
    "name": "ipython",
    "version": 3
   },
   "file_extension": ".py",
   "mimetype": "text/x-python",
   "name": "python",
   "nbconvert_exporter": "python",
   "pygments_lexer": "ipython3",
   "version": "3.11.13"
  },
  "papermill": {
   "default_parameters": {},
   "duration": 4013.870122,
   "end_time": "2025-09-12T12:06:27.445361",
   "environment_variables": {},
   "exception": null,
   "input_path": "__notebook__.ipynb",
   "output_path": "__notebook__.ipynb",
   "parameters": {},
   "start_time": "2025-09-12T10:59:33.575239",
   "version": "2.6.0"
  }
 },
 "nbformat": 4,
 "nbformat_minor": 5
}
